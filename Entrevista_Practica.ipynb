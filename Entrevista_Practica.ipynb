{
  "nbformat": 4,
  "nbformat_minor": 0,
  "metadata": {
    "colab": {
      "provenance": [],
      "authorship_tag": "ABX9TyMLEJ0edN6kFzcFYZCQzR5l",
      "include_colab_link": true
    },
    "kernelspec": {
      "name": "python3",
      "display_name": "Python 3"
    },
    "language_info": {
      "name": "python"
    }
  },
  "cells": [
    {
      "cell_type": "markdown",
      "metadata": {
        "id": "view-in-github",
        "colab_type": "text"
      },
      "source": [
        "<a href=\"https://colab.research.google.com/github/ErikFantomex/Interview_leetcode/blob/main/Entrevista_Practica.ipynb\" target=\"_parent\"><img src=\"https://colab.research.google.com/assets/colab-badge.svg\" alt=\"Open In Colab\"/></a>"
      ]
    },
    {
      "cell_type": "markdown",
      "source": [
        "You are given two integer arrays nums1 and nums2, sorted in non-decreasing order, and two integers m and n, representing the number of elements in nums1 and nums2 respectively.\n",
        "\n",
        "Merge nums1 and nums2 into a single array sorted in non-decreasing order.\n",
        "\n",
        "The final sorted array should not be returned by the function, but instead be stored inside the array nums1. To accommodate this, nums1 has a length of m + n, where the first m elements denote the elements that should be merged, and the last n elements are set to 0 and should be ignored. nums2 has a length of n."
      ],
      "metadata": {
        "id": "UR4eYIlMxesd"
      }
    },
    {
      "cell_type": "code",
      "source": [
        "class Solution:\n",
        "    def merge(self, nums1: List[int], m: int, nums2: List[int], n: int) -> None:\n",
        "        \"\"\"\n",
        "        Do not return anything, modify nums1 in-place instead.\n",
        "        \"\"\"\n",
        "        # Write the elements of num2 into the end of nums1.\n",
        "        for i in range(n):\n",
        "            nums1[i + m] = nums2[i]\n",
        "        \n",
        "        # Sort nums1 list in-place.\n",
        "        nums1.sort()"
      ],
      "metadata": {
        "id": "oYgWxDDbxd3R"
      },
      "execution_count": null,
      "outputs": []
    },
    {
      "cell_type": "markdown",
      "source": [
        "# Approach 2: Three Pointers (Start From the Beginning)\n",
        "\n",
        "Intuition\n",
        "\n",
        "Because each array is already sorted, we can achieve an O(n+m)\\mathcal{O}(n + m)O(n+m) time complexity with the help of the two-pointer technique.\n",
        "\n",
        "Algorithm\n",
        "\n",
        "The simplest implementation would be to make a copy of the values in nums1, called nums1Copy, and then use two read pointers and one write pointer to read values from nums1Copy and nums2 and write them into nums1.\n",
        "\n",
        "    Initialize nums1Copy to be a new array containing the first m values of nums1.\n",
        "    Initialize read pointer p1 to the beginning of nums1Copy.\n",
        "    Initialize read pointer p2 to the beginning of nums2.\n",
        "    Initialize write pointer p to the beginning of nums1.\n",
        "    While p is still within nums1:\n",
        "        If nums1Copy[p1] exists and is less than or equal to nums2[p2]:\n",
        "            Write nums1Copy[p1] into nums1[p], and increment p1 by 1.\n",
        "        Else\n",
        "            Write nums2[p2] into nums1[p], and increment p2 by 1.\n",
        "        Increment p by 1.\n"
      ],
      "metadata": {
        "id": "med3AAilxlri"
      }
    },
    {
      "cell_type": "code",
      "source": [
        "class Solution:\n",
        "    def merge(self, nums1: List[int], m: int, nums2: List[int], n: int) -> None:\n",
        "        \"\"\"\n",
        "        Do not return anything, modify nums1 in-place instead.\n",
        "        \"\"\"\n",
        "        # Make a copy of the first m elements of nums1.\n",
        "        nums1_copy = nums1[:m] \n",
        "        \n",
        "        # Read pointers for nums1Copy and nums2 respectively.\n",
        "        p1 = 0\n",
        "        p2 = 0\n",
        "        \n",
        "        # Compare elements from nums1Copy and nums2 and write the smallest to nums1.\n",
        "        for p in range(n + m):\n",
        "            # We also need to ensure that p1 and p2 aren't over the boundaries\n",
        "            # of their respective arrays.\n",
        "            if p2 >= n or (p1 < m and nums1_copy[p1] <= nums2[p2]):\n",
        "                nums1[p] = nums1_copy[p1] \n",
        "                p1 += 1\n",
        "            else:\n",
        "                nums1[p] = nums2[p2]\n",
        "                p2 += 1"
      ],
      "metadata": {
        "id": "nvEdCaEbxd55"
      },
      "execution_count": null,
      "outputs": []
    },
    {
      "cell_type": "code",
      "source": [],
      "metadata": {
        "id": "SD4neSjTxd8R"
      },
      "execution_count": null,
      "outputs": []
    },
    {
      "cell_type": "code",
      "source": [],
      "metadata": {
        "id": "GUgqJi5exd-q"
      },
      "execution_count": null,
      "outputs": []
    },
    {
      "cell_type": "code",
      "source": [],
      "metadata": {
        "id": "FJSeY6O6xeBi"
      },
      "execution_count": null,
      "outputs": []
    },
    {
      "cell_type": "code",
      "source": [],
      "metadata": {
        "id": "d6-QDU9jxeET"
      },
      "execution_count": null,
      "outputs": []
    },
    {
      "cell_type": "markdown",
      "source": [],
      "metadata": {
        "id": "r5gBpke8xeLk"
      }
    }
  ]
}