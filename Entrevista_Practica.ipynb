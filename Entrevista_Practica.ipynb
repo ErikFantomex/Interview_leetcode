{
  "nbformat": 4,
  "nbformat_minor": 0,
  "metadata": {
    "colab": {
      "provenance": [],
      "authorship_tag": "ABX9TyPsD2Gik+KggRVtV3+jhMzb",
      "include_colab_link": true
    },
    "kernelspec": {
      "name": "python3",
      "display_name": "Python 3"
    },
    "language_info": {
      "name": "python"
    }
  },
  "cells": [
    {
      "cell_type": "markdown",
      "metadata": {
        "id": "view-in-github",
        "colab_type": "text"
      },
      "source": [
        "<a href=\"https://colab.research.google.com/github/ErikFantomex/Interview_leetcode/blob/main/Entrevista_Practica.ipynb\" target=\"_parent\"><img src=\"https://colab.research.google.com/assets/colab-badge.svg\" alt=\"Open In Colab\"/></a>"
      ]
    },
    {
      "cell_type": "markdown",
      "source": [
        "You are given two integer arrays nums1 and nums2, sorted in non-decreasing order, and two integers m and n, representing the number of elements in nums1 and nums2 respectively.\n",
        "\n",
        "Merge nums1 and nums2 into a single array sorted in non-decreasing order.\n",
        "\n",
        "The final sorted array should not be returned by the function, but instead be stored inside the array nums1. To accommodate this, nums1 has a length of m + n, where the first m elements denote the elements that should be merged, and the last n elements are set to 0 and should be ignored. nums2 has a length of n."
      ],
      "metadata": {
        "id": "UR4eYIlMxesd"
      }
    },
    {
      "cell_type": "code",
      "source": [
        "class Solution:\n",
        "    def merge(self, nums1: List[int], m: int, nums2: List[int], n: int) -> None:\n",
        "        \"\"\"\n",
        "        Do not return anything, modify nums1 in-place instead.\n",
        "        \"\"\"\n",
        "        # Write the elements of num2 into the end of nums1.\n",
        "        for i in range(n):\n",
        "            nums1[i + m] = nums2[i]\n",
        "        \n",
        "        # Sort nums1 list in-place.\n",
        "        nums1.sort()"
      ],
      "metadata": {
        "id": "oYgWxDDbxd3R"
      },
      "execution_count": null,
      "outputs": []
    },
    {
      "cell_type": "markdown",
      "source": [
        "# Approach 2: Three Pointers (Start From the Beginning)\n",
        "\n",
        "Intuition\n",
        "\n",
        "Because each array is already sorted, we can achieve an O(n+m)\\mathcal{O}(n + m)O(n+m) time complexity with the help of the two-pointer technique.\n",
        "\n",
        "Algorithm\n",
        "\n",
        "The simplest implementation would be to make a copy of the values in nums1, called nums1Copy, and then use two read pointers and one write pointer to read values from nums1Copy and nums2 and write them into nums1.\n",
        "\n",
        "    Initialize nums1Copy to be a new array containing the first m values of nums1.\n",
        "    Initialize read pointer p1 to the beginning of nums1Copy.\n",
        "    Initialize read pointer p2 to the beginning of nums2.\n",
        "    Initialize write pointer p to the beginning of nums1.\n",
        "    While p is still within nums1:\n",
        "        If nums1Copy[p1] exists and is less than or equal to nums2[p2]:\n",
        "            Write nums1Copy[p1] into nums1[p], and increment p1 by 1.\n",
        "        Else\n",
        "            Write nums2[p2] into nums1[p], and increment p2 by 1.\n",
        "        Increment p by 1.\n"
      ],
      "metadata": {
        "id": "med3AAilxlri"
      }
    },
    {
      "cell_type": "code",
      "source": [
        "class Solution:\n",
        "    def merge(self, nums1: List[int], m: int, nums2: List[int], n: int) -> None:\n",
        "        \"\"\"\n",
        "        Do not return anything, modify nums1 in-place instead.\n",
        "        \"\"\"\n",
        "        # Make a copy of the first m elements of nums1.\n",
        "        nums1_copy = nums1[:m] \n",
        "        \n",
        "        # Read pointers for nums1Copy and nums2 respectively.\n",
        "        p1 = 0\n",
        "        p2 = 0\n",
        "        \n",
        "        # Compare elements from nums1Copy and nums2 and write the smallest to nums1.\n",
        "        for p in range(n + m):\n",
        "            # We also need to ensure that p1 and p2 aren't over the boundaries\n",
        "            # of their respective arrays.\n",
        "            if p2 >= n or (p1 < m and nums1_copy[p1] <= nums2[p2]):\n",
        "                nums1[p] = nums1_copy[p1] \n",
        "                p1 += 1\n",
        "            else:\n",
        "                nums1[p] = nums2[p2]\n",
        "                p2 += 1"
      ],
      "metadata": {
        "id": "nvEdCaEbxd55"
      },
      "execution_count": null,
      "outputs": []
    },
    {
      "cell_type": "code",
      "source": [],
      "metadata": {
        "id": "dB04apm4G7a_"
      },
      "execution_count": null,
      "outputs": []
    },
    {
      "cell_type": "markdown",
      "source": [
        "# Jump Game\n",
        "You are given an integer array nums. You are initially positioned at the array's first index, and each element in the array represents your maximum jump length at that position.\n",
        "\n",
        "Return true if you can reach the last index, or false otherwise."
      ],
      "metadata": {
        "id": "xNGUoAvxG8Ml"
      }
    },
    {
      "cell_type": "code",
      "source": [
        "\n",
        "class Solution:\n",
        "    def canJump(self, nums: List[int]) -> bool:\n",
        "        n = len(nums)\n",
        "\n",
        "        @lru_cache(None)\n",
        "        def dp(i):\n",
        "            if i == n - 1:\n",
        "                return True\n",
        "\n",
        "            for j in range(i+1, min(i+nums[i],n-1)+1):\n",
        "                if dp(j):\n",
        "                    return True\n",
        "                return False\n",
        "\n",
        "        return dp(0)\n",
        "\n",
        "#Test_Case \n",
        "#nums = [2,3,1,1,4]\n",
        "#nums = [3,2,1,0,4]"
      ],
      "metadata": {
        "id": "SD4neSjTxd8R"
      },
      "execution_count": null,
      "outputs": []
    },
    {
      "cell_type": "code",
      "source": [
        "class Solution:\n",
        "    def canJump(self, nums: List[int]) -> bool:\n",
        "        n = len(nums)\n",
        "        dp = [False] * n\n",
        "        dp[n-1] = True\n",
        "        for i in range(n-2, -1, -1):\n",
        "            for j in range(i+1, min(n, i+nums[i]+1)):\n",
        "                if dp[j]:\n",
        "                    dp[i] = True\n",
        "                    break\n",
        "        return dp[0]"
      ],
      "metadata": {
        "id": "GUgqJi5exd-q"
      },
      "execution_count": null,
      "outputs": []
    },
    {
      "cell_type": "code",
      "source": [
        "class Solution:\n",
        "    def canJump(self, nums: List[int]) -> bool:\n",
        "        n = len(nums)\n",
        "        maxPos = 0\n",
        "        i = 0\n",
        "        while i <= maxPos:\n",
        "            maxPos = max(maxPos, i + nums[i])\n",
        "            if maxPos >= n - 1: return True\n",
        "            i += 1\n",
        "        \n",
        "        return False"
      ],
      "metadata": {
        "id": "FJSeY6O6xeBi"
      },
      "execution_count": null,
      "outputs": []
    },
    {
      "cell_type": "markdown",
      "source": [
        "The code you provided is the starting point for implementing the solution using a class named Solution and a method duplicateZeros. The method duplicateZeros takes a list of integers arr as input and should modify it in-place without returning anything"
      ],
      "metadata": {
        "id": "r5gBpke8xeLk"
      }
    },
    {
      "cell_type": "code",
      "source": [
        "from typing import List\n",
        "\n",
        "class Solution:\n",
        "    def duplicateZeros(self, arr: List[int]) -> None:\n",
        "        length = len(arr)\n",
        "        i = 0\n",
        "        while i < length:\n",
        "            if arr[i] == 0:\n",
        "                arr.insert(i+1, 0)\n",
        "                i += 1\n",
        "                length += 1\n",
        "            i += 1\n",
        "        del arr[length:]\n"
      ],
      "metadata": {
        "id": "d6-QDU9jxeET"
      },
      "execution_count": null,
      "outputs": []
    },
    {
      "cell_type": "code",
      "source": [
        "from typing import List\n",
        "\n",
        "class Solution:\n",
        "    def duplicateZeros(self, arr: List[int]) -> None:\n",
        "        length = len(arr)\n",
        "        i = 0\n",
        "        zeros_to_duplicate = 0\n",
        "        \n",
        "        # Count the number of zeros to duplicate\n",
        "        for num in arr:\n",
        "            if num == 0:\n",
        "                zeros_to_duplicate += 1\n",
        "        \n",
        "        # Calculate the new length of the array\n",
        "        new_length = length + zeros_to_duplicate\n",
        "        \n",
        "        # Iterate from the end of the original array and modify in-place\n",
        "        for j in range(length - 1, -1, -1):\n",
        "            if arr[j] == 0:\n",
        "                if i < new_length:\n",
        "                    arr.append(0)\n",
        "                    i += 1\n",
        "                if i < new_length:\n",
        "                    arr[i] = 0\n",
        "                    i += 1\n",
        "            else:\n",
        "                if i < new_length:\n",
        "                    arr[i] = arr[j]\n",
        "                    i += 1\n",
        "        \n",
        "        # Truncate the array to the original length\n",
        "        del arr[new_length:]\n"
      ],
      "metadata": {
        "id": "ZXqmi-GmCusi"
      },
      "execution_count": null,
      "outputs": []
    },
    {
      "cell_type": "markdown",
      "source": [
        "In a row of dominoes, tops[i] and bottoms[i] represent the top and bottom halves of the ith domino. (A domino is a tile with two numbers from 1 to 6 - one on each half of the tile.)\n",
        "\n",
        "We may rotate the ith domino, so that tops[i] and bottoms[i] swap values.\n",
        "\n",
        "Return the minimum number of rotations so that all the values in tops are the same, or all the values in bottoms are the same.\n",
        "\n",
        "If it cannot be done, return -1."
      ],
      "metadata": {
        "id": "YwPeeXypDG-M"
      }
    },
    {
      "cell_type": "code",
      "source": [
        "from typing import List\n",
        "\n",
        "class Solution:\n",
        "    def minDominoRotations(self, tops: List[int], bottoms: List[int]) -> int:\n",
        "        count_tops = self.count_rotations(tops, bottoms, tops[0])\n",
        "        count_bottoms = self.count_rotations(tops, bottoms, bottoms[0])\n",
        "        \n",
        "        if count_tops == -1 and count_bottoms == -1:\n",
        "            return -1\n",
        "        \n",
        "        if count_tops == -1:\n",
        "            return count_bottoms\n",
        "        \n",
        "        if count_bottoms == -1:\n",
        "            return count_tops\n",
        "        \n",
        "        return min(count_tops, count_bottoms)\n",
        "    \n",
        "    def count_rotations(self, tops: List[int], bottoms: List[int], target: int) -> int:\n",
        "        count = 0\n",
        "        \n",
        "        for i in range(len(tops)):\n",
        "            if tops[i] != target and bottoms[i] != target:\n",
        "                return -1\n",
        "            if tops[i] != target:\n",
        "                count += 1\n",
        "        \n",
        "        return count\n"
      ],
      "metadata": {
        "id": "l6AWrveeDGRc"
      },
      "execution_count": null,
      "outputs": []
    },
    {
      "cell_type": "code",
      "source": [
        "from collections import defaultdict\n",
        "from itertools import combinations\n",
        "from typing import List\n",
        "\n",
        "class Solution:\n",
        "    def mostVisitedPattern(self, username: List[str], timestamp: List[int], website: List[str]) -> List[str]:\n",
        "        # Step 1: Create a dictionary to store patterns and scores\n",
        "        patterns = defaultdict(int)\n",
        "\n",
        "        # Step 2: Create a dictionary to group visits by user\n",
        "        user_visits = defaultdict(list)\n",
        "        for user, time, site in zip(username, timestamp, website):\n",
        "            user_visits[user].append((time, site))\n",
        "\n",
        "        # Step 3: Generate all possible patterns and update scores\n",
        "        for user, visits in user_visits.items():\n",
        "            visits.sort()  # Sort visits by timestamp\n",
        "            for pattern in combinations(visits, 3):\n",
        "                websites = tuple(visit[1] for visit in pattern)\n",
        "                patterns[websites] += 1\n",
        "\n",
        "        # Step 4: Find the pattern with the maximum score\n",
        "        max_score = max(patterns.values())\n",
        "        max_patterns = [pattern for pattern, score in patterns.items() if score == max_score]\n",
        "\n",
        "        # Step 5: Return the lexicographically smallest pattern\n",
        "        return min(max_patterns)\n",
        "\n",
        "# Example usage:\n",
        "username = [\"joe\", \"joe\", \"joe\", \"james\", \"james\", \"james\", \"james\", \"mary\", \"mary\", \"mary\"]\n",
        "website = [\"home\", \"about\", \"career\", \"home\", \"cart\", \"maps\", \"home\", \"home\", \"about\", \"career\"]\n",
        "timestamp = [1, 2, 3, 4, 5, 6, 7, 8, 9, 10]\n",
        "\n",
        "solution = Solution()\n",
        "result = solution.mostVisitedPattern(username, timestamp, website)\n",
        "print(result)  # Output: ('about', 'career', 'home')\n"
      ],
      "metadata": {
        "id": "X_kB_gjfzmp0"
      },
      "execution_count": null,
      "outputs": []
    },
    {
      "cell_type": "code",
      "source": [
        "class TrieNode:\n",
        "    def __init__(self):\n",
        "        self.children = {}\n",
        "        self.products = []\n",
        "\n",
        "\n",
        "class Trie:\n",
        "    def __init__(self):\n",
        "        self.root = TrieNode()\n",
        "\n",
        "    def insert(self, word):\n",
        "        node = self.root\n",
        "        for char in word:\n",
        "            if char not in node.children:\n",
        "                node.children[char] = TrieNode()\n",
        "            node = node.children[char]\n",
        "            if len(node.products) < 3:\n",
        "                node.products.append(word)\n",
        "        node.products.sort()\n",
        "\n",
        "    def search(self, prefix):\n",
        "        node = self.root\n",
        "        for char in prefix:\n",
        "            if char not in node.children:\n",
        "                return []\n",
        "            node = node.children[char]\n",
        "        return node.products\n",
        "\n",
        "\n",
        "def suggestedProducts(products, searchWord):\n",
        "    trie = Trie()\n",
        "\n",
        "    for product in products:\n",
        "        trie.insert(product)\n",
        "\n",
        "    result = []\n",
        "    prefix = \"\"\n",
        "    for char in searchWord:\n",
        "        prefix += char\n",
        "        suggestions = trie.search(prefix)\n",
        "        result.append(suggestions[:3])\n",
        "\n",
        "    return result\n"
      ],
      "metadata": {
        "id": "WufXwFZozmul"
      },
      "execution_count": null,
      "outputs": []
    },
    {
      "cell_type": "code",
      "source": [
        "from typing import List\n",
        "from collections import defaultdict\n",
        "from itertools import combinations\n",
        "\n",
        "\n",
        "class Solution:\n",
        "    def mostVisitedPattern(\n",
        "        self, username: List[str], timestamp: List[int], website: List[str]\n",
        "    ) -> List[str]:\n",
        "        # Step 1: Create a dictionary to store the website visits for each user\n",
        "        user_visits = defaultdict(list)\n",
        "        for user, site, time in zip(username, website, timestamp):\n",
        "            user_visits[user].append((time, site))\n",
        "\n",
        "        # Step 2: Create all possible 3-length combinations of websites\n",
        "        patterns = set()\n",
        "        for user in user_visits:\n",
        "            if len(user_visits[user]) >= 3:\n",
        "                visits = sorted(user_visits[user])\n",
        "                patterns.update(\n",
        "                    set(combinations([site for _, site in visits], 3))\n",
        "                )\n",
        "\n",
        "        # Step 3: Calculate the score for each pattern\n",
        "        pattern_scores = defaultdict(int)\n",
        "        for user in user_visits:\n",
        "            if len(user_visits[user]) >= 3:\n",
        "                visits = sorted(user_visits[user])\n",
        "                for pattern in patterns:\n",
        "                    if all(website in visits for website in pattern):\n",
        "                        pattern_scores[pattern] += 1\n",
        "\n",
        "        # Step 4: Find the pattern with the maximum score\n",
        "        max_score = max(pattern_scores.values())\n",
        "        max_patterns = [\n",
        "            pattern for pattern in pattern_scores if pattern_scores[pattern] == max_score\n",
        "        ]\n",
        "\n",
        "        # Step 5: Return the lexicographically smallest pattern with the maximum score\n",
        "        return min(max_patterns)\n",
        "\n"
      ],
      "metadata": {
        "id": "nzE33uIK6Rp9"
      },
      "execution_count": null,
      "outputs": []
    },
    {
      "cell_type": "code",
      "source": [
        "from typing import List\n",
        "\n",
        "\n",
        "class TrieNode:\n",
        "    def __init__(self):\n",
        "        self.children = {}\n",
        "        self.products = []\n",
        "\n",
        "\n",
        "class Trie:\n",
        "    def __init__(self):\n",
        "        self.root = TrieNode()\n",
        "\n",
        "    def insert(self, word):\n",
        "        node = self.root\n",
        "        for char in word:\n",
        "            if char not in node.children:\n",
        "                node.children[char] = TrieNode()\n",
        "            node = node.children[char]\n",
        "            node.products.append(word)\n",
        "        node.products.sort()\n",
        "\n",
        "    def search(self, prefix):\n",
        "        node = self.root\n",
        "        for char in prefix:\n",
        "            if char not in node.children:\n",
        "                return []\n",
        "            node = node.children[char]\n",
        "        return node.products\n",
        "\n",
        "\n",
        "class Solution:\n",
        "    def suggestedProducts(self, products: List[str], searchWord: str) -> List[List[str]]:\n",
        "        trie = Trie()\n",
        "\n",
        "        for product in products:\n",
        "            trie.insert(product)\n",
        "\n",
        "        result = []\n",
        "        prefix = \"\"\n",
        "        for char in searchWord:\n",
        "            prefix += char\n",
        "            suggestions = trie.search(prefix)\n",
        "            result.append(suggestions[:3])\n",
        "\n",
        "        return result\n"
      ],
      "metadata": {
        "id": "rxWvoFDK_F7U"
      },
      "execution_count": null,
      "outputs": []
    },
    {
      "cell_type": "markdown",
      "source": [
        "implement the find_max_sum method returns sum of any 2 Elments in a given list of positive number. fox example the largest sum of the list 5,9,7,qq is the sum of 9 nd 11 whih"
      ],
      "metadata": {
        "id": "_MksNAR-j-7g"
      }
    },
    {
      "cell_type": "code",
      "source": [
        "def find_max_sum(numbers):\n",
        "    max_sum = 0\n",
        "    largest = 0\n",
        "    second_largest = 0\n",
        "\n",
        "    for num in numbers:\n",
        "        if num > largest:\n",
        "            second_largest = largest\n",
        "            largest = num\n",
        "        elif num > second_largest:\n",
        "            second_largest = num\n",
        "\n",
        "    max_sum = largest + second_largest\n",
        "    return max_sum\n"
      ],
      "metadata": {
        "id": "OEmkb_lIj_CZ"
      },
      "execution_count": null,
      "outputs": []
    },
    {
      "cell_type": "markdown",
      "source": [
        "Accepts a string in JSON format, as in the example below. orders items by price in ascending order . if two products have the same price , it orders them by their name in alphabetical order . Returns a string in JSON format the is equivalent to the one in the input format. For examine the call \"sort_by_price_ascending('[{\"name\":\"eggs\",\"price\":1},{\"name\":\"coffe\",\"price\":9.99},{\"name\":\"rice\",\"price\":4.04}]');\" should return '[{\"name\":\"eggs\",\"price\":1},{\"name\":\"rice\",\"price\":4.04},{\"name\":\"coffee\",\"price\":9.99} ]'"
      ],
      "metadata": {
        "id": "WqJbCK-KkE2V"
      }
    },
    {
      "cell_type": "code",
      "source": [
        "import json\n",
        "\n",
        "def sort_by_price_ascending(json_string):\n",
        "    items = json.loads(json_string)\n",
        "    sorted_items = sorted(items, key=lambda item: (item['price'], item['name']))\n",
        "    sorted_json_string = json.dumps(sorted_items)\n",
        "    return sorted_json_string\n"
      ],
      "metadata": {
        "id": "KaY7_K0fhi7w"
      },
      "execution_count": null,
      "outputs": []
    },
    {
      "cell_type": "markdown",
      "source": [
        "you are holding one link of a chain your hand implement longer_side to find with side of the chain, relater yo the link you are holding has mire links. if the left side has more links return Side.left if the right side has more links return Side.right, and if both sides have an equal number of links or if the chain is a closed loop, return side.none,  for example for the code below the output should be True: left = ChainLink() middle = ChainLink() right = ChainLink() left.append(middle) print(left.longer_side() ==Side.right)"
      ],
      "metadata": {
        "id": "wwgUvk4jj-aX"
      }
    },
    {
      "cell_type": "code",
      "source": [
        "from enum import Enum\n",
        "\n",
        "\n",
        "class Side(Enum):\n",
        "    none = 0\n",
        "    left = 1\n",
        "    right = 2\n",
        "\n",
        "\n",
        "class ChainLink:\n",
        "    def __init__(self):\n",
        "        self._left = None\n",
        "        self._right = None\n",
        "\n",
        "    def append(self, link):\n",
        "        if self._right is not None:\n",
        "            raise Exception('Link already connected')\n",
        "        self._right = link\n",
        "        link._left = self\n",
        "\n",
        "    def longer_side(self):\n",
        "        if self._right is None or self._left is None:\n",
        "            return Side.none\n",
        "\n",
        "        left_count = self.count_links(self._left, self)\n",
        "        right_count = self.count_links(self._right, self)\n",
        "\n",
        "        if left_count > right_count:\n",
        "            return Side.left\n",
        "        elif right_count > left_count:\n",
        "            return Side.right\n",
        "        else:\n",
        "            return Side.none\n",
        "\n",
        "    def count_links(self, start_link, end_link):\n",
        "        count = 0\n",
        "        current_link = start_link\n",
        "\n",
        "        while current_link is not None and current_link != end_link:\n",
        "            count += 1\n",
        "            current_link = current_link._right\n",
        "\n",
        "            if current_link == start_link:\n",
        "                # Reached the starting link again, indicating a closed loop\n",
        "                break\n",
        "\n",
        "        return count\n",
        "\n",
        "\n",
        "# Example usage\n",
        "left = ChainLink()\n",
        "middle = ChainLink()\n",
        "right = ChainLink()\n",
        "\n",
        "left.append(middle)\n",
        "middle.append(right)\n",
        "\n",
        "print(left.longer_side() == Side.right)\n"
      ],
      "metadata": {
        "id": "_SyxdlASj6pn"
      },
      "execution_count": null,
      "outputs": []
    }
  ]
}