{
  "nbformat": 4,
  "nbformat_minor": 0,
  "metadata": {
    "colab": {
      "provenance": [],
      "authorship_tag": "ABX9TyOoQ0cNh/yH5ClL6pKRWMb6",
      "include_colab_link": true
    },
    "kernelspec": {
      "name": "python3",
      "display_name": "Python 3"
    },
    "language_info": {
      "name": "python"
    }
  },
  "cells": [
    {
      "cell_type": "markdown",
      "metadata": {
        "id": "view-in-github",
        "colab_type": "text"
      },
      "source": [
        "<a href=\"https://colab.research.google.com/github/ErikFantomex/Interview_leetcode/blob/main/Entrevista_Practica.ipynb\" target=\"_parent\"><img src=\"https://colab.research.google.com/assets/colab-badge.svg\" alt=\"Open In Colab\"/></a>"
      ]
    },
    {
      "cell_type": "markdown",
      "source": [
        "You are given two integer arrays nums1 and nums2, sorted in non-decreasing order, and two integers m and n, representing the number of elements in nums1 and nums2 respectively.\n",
        "\n",
        "Merge nums1 and nums2 into a single array sorted in non-decreasing order.\n",
        "\n",
        "The final sorted array should not be returned by the function, but instead be stored inside the array nums1. To accommodate this, nums1 has a length of m + n, where the first m elements denote the elements that should be merged, and the last n elements are set to 0 and should be ignored. nums2 has a length of n."
      ],
      "metadata": {
        "id": "UR4eYIlMxesd"
      }
    },
    {
      "cell_type": "code",
      "source": [
        "class Solution:\n",
        "    def merge(self, nums1: List[int], m: int, nums2: List[int], n: int) -> None:\n",
        "        \"\"\"\n",
        "        Do not return anything, modify nums1 in-place instead.\n",
        "        \"\"\"\n",
        "        # Write the elements of num2 into the end of nums1.\n",
        "        for i in range(n):\n",
        "            nums1[i + m] = nums2[i]\n",
        "        \n",
        "        # Sort nums1 list in-place.\n",
        "        nums1.sort()"
      ],
      "metadata": {
        "id": "oYgWxDDbxd3R"
      },
      "execution_count": null,
      "outputs": []
    },
    {
      "cell_type": "markdown",
      "source": [
        "# Approach 2: Three Pointers (Start From the Beginning)\n",
        "\n",
        "Intuition\n",
        "\n",
        "Because each array is already sorted, we can achieve an O(n+m)\\mathcal{O}(n + m)O(n+m) time complexity with the help of the two-pointer technique.\n",
        "\n",
        "Algorithm\n",
        "\n",
        "The simplest implementation would be to make a copy of the values in nums1, called nums1Copy, and then use two read pointers and one write pointer to read values from nums1Copy and nums2 and write them into nums1.\n",
        "\n",
        "    Initialize nums1Copy to be a new array containing the first m values of nums1.\n",
        "    Initialize read pointer p1 to the beginning of nums1Copy.\n",
        "    Initialize read pointer p2 to the beginning of nums2.\n",
        "    Initialize write pointer p to the beginning of nums1.\n",
        "    While p is still within nums1:\n",
        "        If nums1Copy[p1] exists and is less than or equal to nums2[p2]:\n",
        "            Write nums1Copy[p1] into nums1[p], and increment p1 by 1.\n",
        "        Else\n",
        "            Write nums2[p2] into nums1[p], and increment p2 by 1.\n",
        "        Increment p by 1.\n"
      ],
      "metadata": {
        "id": "med3AAilxlri"
      }
    },
    {
      "cell_type": "code",
      "source": [
        "class Solution:\n",
        "    def merge(self, nums1: List[int], m: int, nums2: List[int], n: int) -> None:\n",
        "        \"\"\"\n",
        "        Do not return anything, modify nums1 in-place instead.\n",
        "        \"\"\"\n",
        "        # Make a copy of the first m elements of nums1.\n",
        "        nums1_copy = nums1[:m] \n",
        "        \n",
        "        # Read pointers for nums1Copy and nums2 respectively.\n",
        "        p1 = 0\n",
        "        p2 = 0\n",
        "        \n",
        "        # Compare elements from nums1Copy and nums2 and write the smallest to nums1.\n",
        "        for p in range(n + m):\n",
        "            # We also need to ensure that p1 and p2 aren't over the boundaries\n",
        "            # of their respective arrays.\n",
        "            if p2 >= n or (p1 < m and nums1_copy[p1] <= nums2[p2]):\n",
        "                nums1[p] = nums1_copy[p1] \n",
        "                p1 += 1\n",
        "            else:\n",
        "                nums1[p] = nums2[p2]\n",
        "                p2 += 1"
      ],
      "metadata": {
        "id": "nvEdCaEbxd55"
      },
      "execution_count": null,
      "outputs": []
    },
    {
      "cell_type": "code",
      "source": [],
      "metadata": {
        "id": "dB04apm4G7a_"
      },
      "execution_count": null,
      "outputs": []
    },
    {
      "cell_type": "markdown",
      "source": [
        "# Jump Game\n",
        "You are given an integer array nums. You are initially positioned at the array's first index, and each element in the array represents your maximum jump length at that position.\n",
        "\n",
        "Return true if you can reach the last index, or false otherwise."
      ],
      "metadata": {
        "id": "xNGUoAvxG8Ml"
      }
    },
    {
      "cell_type": "code",
      "source": [
        "\n",
        "class Solution:\n",
        "    def canJump(self, nums: List[int]) -> bool:\n",
        "        n = len(nums)\n",
        "\n",
        "        @lru_cache(None)\n",
        "        def dp(i):\n",
        "            if i == n - 1:\n",
        "                return True\n",
        "\n",
        "            for j in range(i+1, min(i+nums[i],n-1)+1):\n",
        "                if dp(j):\n",
        "                    return True\n",
        "                return False\n",
        "\n",
        "        return dp(0)\n",
        "\n",
        "#Test_Case \n",
        "#nums = [2,3,1,1,4]\n",
        "#nums = [3,2,1,0,4]"
      ],
      "metadata": {
        "id": "SD4neSjTxd8R"
      },
      "execution_count": null,
      "outputs": []
    },
    {
      "cell_type": "code",
      "source": [
        "class Solution:\n",
        "    def canJump(self, nums: List[int]) -> bool:\n",
        "        n = len(nums)\n",
        "        dp = [False] * n\n",
        "        dp[n-1] = True\n",
        "        for i in range(n-2, -1, -1):\n",
        "            for j in range(i+1, min(n, i+nums[i]+1)):\n",
        "                if dp[j]:\n",
        "                    dp[i] = True\n",
        "                    break\n",
        "        return dp[0]"
      ],
      "metadata": {
        "id": "GUgqJi5exd-q"
      },
      "execution_count": null,
      "outputs": []
    },
    {
      "cell_type": "code",
      "source": [
        "class Solution:\n",
        "    def canJump(self, nums: List[int]) -> bool:\n",
        "        n = len(nums)\n",
        "        maxPos = 0\n",
        "        i = 0\n",
        "        while i <= maxPos:\n",
        "            maxPos = max(maxPos, i + nums[i])\n",
        "            if maxPos >= n - 1: return True\n",
        "            i += 1\n",
        "        \n",
        "        return False"
      ],
      "metadata": {
        "id": "FJSeY6O6xeBi"
      },
      "execution_count": null,
      "outputs": []
    },
    {
      "cell_type": "markdown",
      "source": [
        "The code you provided is the starting point for implementing the solution using a class named Solution and a method duplicateZeros. The method duplicateZeros takes a list of integers arr as input and should modify it in-place without returning anything"
      ],
      "metadata": {
        "id": "r5gBpke8xeLk"
      }
    },
    {
      "cell_type": "code",
      "source": [
        "from typing import List\n",
        "\n",
        "class Solution:\n",
        "    def duplicateZeros(self, arr: List[int]) -> None:\n",
        "        length = len(arr)\n",
        "        i = 0\n",
        "        while i < length:\n",
        "            if arr[i] == 0:\n",
        "                arr.insert(i+1, 0)\n",
        "                i += 1\n",
        "                length += 1\n",
        "            i += 1\n",
        "        del arr[length:]\n"
      ],
      "metadata": {
        "id": "d6-QDU9jxeET"
      },
      "execution_count": null,
      "outputs": []
    },
    {
      "cell_type": "code",
      "source": [
        "from typing import List\n",
        "\n",
        "class Solution:\n",
        "    def duplicateZeros(self, arr: List[int]) -> None:\n",
        "        length = len(arr)\n",
        "        i = 0\n",
        "        zeros_to_duplicate = 0\n",
        "        \n",
        "        # Count the number of zeros to duplicate\n",
        "        for num in arr:\n",
        "            if num == 0:\n",
        "                zeros_to_duplicate += 1\n",
        "        \n",
        "        # Calculate the new length of the array\n",
        "        new_length = length + zeros_to_duplicate\n",
        "        \n",
        "        # Iterate from the end of the original array and modify in-place\n",
        "        for j in range(length - 1, -1, -1):\n",
        "            if arr[j] == 0:\n",
        "                if i < new_length:\n",
        "                    arr.append(0)\n",
        "                    i += 1\n",
        "                if i < new_length:\n",
        "                    arr[i] = 0\n",
        "                    i += 1\n",
        "            else:\n",
        "                if i < new_length:\n",
        "                    arr[i] = arr[j]\n",
        "                    i += 1\n",
        "        \n",
        "        # Truncate the array to the original length\n",
        "        del arr[new_length:]\n"
      ],
      "metadata": {
        "id": "ZXqmi-GmCusi"
      },
      "execution_count": null,
      "outputs": []
    },
    {
      "cell_type": "markdown",
      "source": [
        "In a row of dominoes, tops[i] and bottoms[i] represent the top and bottom halves of the ith domino. (A domino is a tile with two numbers from 1 to 6 - one on each half of the tile.)\n",
        "\n",
        "We may rotate the ith domino, so that tops[i] and bottoms[i] swap values.\n",
        "\n",
        "Return the minimum number of rotations so that all the values in tops are the same, or all the values in bottoms are the same.\n",
        "\n",
        "If it cannot be done, return -1."
      ],
      "metadata": {
        "id": "YwPeeXypDG-M"
      }
    },
    {
      "cell_type": "code",
      "source": [
        "from typing import List\n",
        "\n",
        "class Solution:\n",
        "    def minDominoRotations(self, tops: List[int], bottoms: List[int]) -> int:\n",
        "        count_tops = self.count_rotations(tops, bottoms, tops[0])\n",
        "        count_bottoms = self.count_rotations(tops, bottoms, bottoms[0])\n",
        "        \n",
        "        if count_tops == -1 and count_bottoms == -1:\n",
        "            return -1\n",
        "        \n",
        "        if count_tops == -1:\n",
        "            return count_bottoms\n",
        "        \n",
        "        if count_bottoms == -1:\n",
        "            return count_tops\n",
        "        \n",
        "        return min(count_tops, count_bottoms)\n",
        "    \n",
        "    def count_rotations(self, tops: List[int], bottoms: List[int], target: int) -> int:\n",
        "        count = 0\n",
        "        \n",
        "        for i in range(len(tops)):\n",
        "            if tops[i] != target and bottoms[i] != target:\n",
        "                return -1\n",
        "            if tops[i] != target:\n",
        "                count += 1\n",
        "        \n",
        "        return count\n"
      ],
      "metadata": {
        "id": "l6AWrveeDGRc"
      },
      "execution_count": null,
      "outputs": []
    }
  ]
}