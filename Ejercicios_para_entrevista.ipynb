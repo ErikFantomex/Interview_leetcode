{
  "nbformat": 4,
  "nbformat_minor": 0,
  "metadata": {
    "colab": {
      "provenance": [],
      "authorship_tag": "ABX9TyMJoOgZ6R4ZBGhPURj0kEBU",
      "include_colab_link": true
    },
    "kernelspec": {
      "name": "python3",
      "display_name": "Python 3"
    },
    "language_info": {
      "name": "python"
    }
  },
  "cells": [
    {
      "cell_type": "markdown",
      "metadata": {
        "id": "view-in-github",
        "colab_type": "text"
      },
      "source": [
        "<a href=\"https://colab.research.google.com/github/ErikFantomex/Interview_leetcode/blob/main/Ejercicios_para_entrevista.ipynb\" target=\"_parent\"><img src=\"https://colab.research.google.com/assets/colab-badge.svg\" alt=\"Open In Colab\"/></a>"
      ]
    },
    {
      "cell_type": "markdown",
      "source": [
        "#Nivel Facil "
      ],
      "metadata": {
        "id": "_KkErkFRHDX2"
      }
    },
    {
      "cell_type": "code",
      "source": [
        "if __name__ == \"__main__\":\n",
        "    # game loop\n",
        "    while True:\n",
        "        enemy1: str = input()  # name of enemy 1\n",
        "        distance1: int = int(input())  # distance to enemy 1\n",
        "        enemy2: str = input()  # name of enemy 2\n",
        "        distance2: int = int(input())  # distance to enemy 2\n",
        "\n",
        "        # Display enemy1 name when enemy1 is the closest, enemy2 otherwise\n",
        "        if distance1 < distance2:\n",
        "            print(enemy1)\n",
        "        else:\n",
        "            print(enemy2)"
      ],
      "metadata": {
        "id": "HLwdzFItHNDd"
      },
      "execution_count": null,
      "outputs": []
    },
    {
      "cell_type": "markdown",
      "source": [
        "# Sudoku "
      ],
      "metadata": {
        "id": "jy4EPv_m1lVn"
      }
    },
    {
      "cell_type": "code",
      "source": [
        "class Solution:\n",
        "    def isValidSudoku(self, board: List[List[str]]) -> bool:\n",
        "        N = 9 \n",
        "\n",
        "        rows = [[0] * N for _ in range(N)]\n",
        "        cols = [[0] * N for _ in range(N)]\n",
        "        boxes = [[0] * N for _ in range(N)]\n",
        "\n",
        "        for r in range(N):\n",
        "            for c in range(N):\n",
        "                if board[r][c] == \".\":\n",
        "                    continue \n",
        "                pos = int(board[r][c]) - 1\n",
        "\n",
        "                if rows[r][pos] == 1:\n",
        "                    return False\n",
        "                rows[r][pos] = 1\n",
        "\n",
        "                if cols[c][pos] == 1:\n",
        "                    return False\n",
        "                cols[c][pos] = 1\n",
        "\n",
        "                idx = (r // 3) * 3 + c // 3\n",
        "                if boxes[idx][pos] == 1:\n",
        "                    return False\n",
        "                boxes[idx][pos] = 1\n",
        "\n",
        "        return True"
      ],
      "metadata": {
        "id": "OGrT0eKhKEON"
      },
      "execution_count": null,
      "outputs": []
    },
    {
      "cell_type": "code",
      "source": [
        "class Solution {\n",
        "public:\n",
        "    vector<int> spiralOrder(vector<vector<int>>& matrix) {\n",
        "\n",
        "        vector<int> ans;\n",
        "        int row = matrix.size();\n",
        "        int col = matrix[0].size();\n",
        "\n",
        "        int cnt = 0;\n",
        "        int total = row*col;\n",
        "        \n",
        "        //index initialisation\n",
        "        int sR = 0;  // starting row\n",
        "        int sC = 0;  // starting column\n",
        "        int eR = row -1;  // ending row\n",
        "        int eC = col-1;   // ending column\n",
        "\n",
        "        while(cnt < total){\n",
        "\n",
        "            //printing starting row\n",
        "            for(int index = sC; cnt < total && index <= eC; index++){\n",
        "               ans.push_back(matrix[sR][index]);\n",
        "               cnt++;\n",
        "            }\n",
        "            sR++;\n",
        "\n",
        "            //printing ending column\n",
        "            for(int index = sR; cnt < total && index <= eR; index++){\n",
        "               ans.push_back(matrix[index][eC]);\n",
        "               cnt++;\n",
        "            }\n",
        "            eC--;\n",
        "\n",
        "            //printing ending row\n",
        "            for(int index = eC; cnt < total && index >= sC; index--){\n",
        "               ans.push_back(matrix[eR][index]);\n",
        "               cnt++;\n",
        "            }\n",
        "            eR--;\n",
        "\n",
        "            //printing starting column\n",
        "            for(int index = eR; cnt < total && index >= sR; index--){\n",
        "               ans.push_back(matrix[index][sC]);\n",
        "               cnt++;\n",
        "            }\n",
        "            sC++;\n",
        "       }\n",
        "\n",
        "    return ans;\n",
        "\n",
        "    }\n",
        "};"
      ],
      "metadata": {
        "id": "gKvJsO3HRDgr"
      },
      "execution_count": null,
      "outputs": []
    },
    {
      "cell_type": "code",
      "source": [],
      "metadata": {
        "id": "H06sZ5QFKERW"
      },
      "execution_count": null,
      "outputs": []
    },
    {
      "cell_type": "code",
      "source": [],
      "metadata": {
        "id": "O_Fj_DNVKEUh"
      },
      "execution_count": null,
      "outputs": []
    },
    {
      "cell_type": "code",
      "source": [],
      "metadata": {
        "id": "Qkm_vmEJKEXY"
      },
      "execution_count": null,
      "outputs": []
    },
    {
      "cell_type": "code",
      "source": [],
      "metadata": {
        "id": "_37yFsGbKEZ-"
      },
      "execution_count": null,
      "outputs": []
    },
    {
      "cell_type": "code",
      "source": [],
      "metadata": {
        "id": "stElMdwsKEc0"
      },
      "execution_count": null,
      "outputs": []
    },
    {
      "cell_type": "code",
      "source": [],
      "metadata": {
        "id": "RaWD84ABKEfo"
      },
      "execution_count": null,
      "outputs": []
    },
    {
      "cell_type": "code",
      "source": [],
      "metadata": {
        "id": "-hWsxJBWKEjf"
      },
      "execution_count": null,
      "outputs": []
    },
    {
      "cell_type": "code",
      "source": [],
      "metadata": {
        "id": "JRpcRPj8KEmM"
      },
      "execution_count": null,
      "outputs": []
    },
    {
      "cell_type": "markdown",
      "source": [
        "# Nivel Intermedio"
      ],
      "metadata": {
        "id": "nSTUnZ5aHHHK"
      }
    },
    {
      "cell_type": "code",
      "source": [],
      "metadata": {
        "id": "Ne3zfZX-HIIg"
      },
      "execution_count": null,
      "outputs": []
    },
    {
      "cell_type": "markdown",
      "source": [
        "# Nivel Avanzado "
      ],
      "metadata": {
        "id": "ra2WXfA-HHKV"
      }
    },
    {
      "cell_type": "code",
      "execution_count": null,
      "metadata": {
        "id": "pu9J_nNjJo1z"
      },
      "outputs": [],
      "source": []
    }
  ]
}