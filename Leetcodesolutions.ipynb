{
  "nbformat": 4,
  "nbformat_minor": 0,
  "metadata": {
    "colab": {
      "provenance": [],
      "authorship_tag": "ABX9TyN6Shpwe/uAkTi+GRWyITzp",
      "include_colab_link": true
    },
    "kernelspec": {
      "name": "python3",
      "display_name": "Python 3"
    },
    "language_info": {
      "name": "python"
    }
  },
  "cells": [
    {
      "cell_type": "markdown",
      "metadata": {
        "id": "view-in-github",
        "colab_type": "text"
      },
      "source": [
        "<a href=\"https://colab.research.google.com/github/ErikFantomex/Interview_leetcode/blob/main/Leetcodesolutions.ipynb\" target=\"_parent\"><img src=\"https://colab.research.google.com/assets/colab-badge.svg\" alt=\"Open In Colab\"/></a>"
      ]
    },
    {
      "cell_type": "markdown",
      "source": [
        "Given an integer array nums, move all 0's to the end of it while maintaining the relative order of the non-zero elements.\n",
        "\n",
        "Note that you must do this in-place without making a copy of the array."
      ],
      "metadata": {
        "id": "n09REUttB-cZ"
      }
    },
    {
      "cell_type": "code",
      "source": [
        "class Solution:\n",
        "    def moveZeroes(self, nums: List[int]) -> None:\n",
        "        \"\"\"\n",
        "        Do not return anything, modify nums in-place instead.\n",
        "        \"\"\"\n",
        "        left = 0\n",
        "        right = 0\n",
        "        \n",
        "        while right < len(nums):\n",
        "            if nums[right] != 0:\n",
        "                nums[left],nums[right] = nums[right],nums[left]\n",
        "                left += 1\n",
        "            right += 1"
      ],
      "metadata": {
        "id": "1uW1jfkTB_Nn"
      },
      "execution_count": null,
      "outputs": []
    },
    {
      "cell_type": "markdown",
      "source": [
        "Given an array of integers nums and an integer k, return the total number of subarrays whose sum equals to k.\n",
        "\n",
        "A subarray is a contiguous non-empty sequence of elements within an array."
      ],
      "metadata": {
        "id": "Hg84AiSsB_Gm"
      }
    },
    {
      "cell_type": "code",
      "source": [
        "class Solution:\n",
        "    def subarraySum(self, nums: List[int], k: int) -> int:\n",
        "        count = 0\n",
        "        total_sum = 0\n",
        "        sum_counts = {}\n",
        "        sum_counts[0] = 1\n",
        "\n",
        "        for num in nums:\n",
        "            total_sum += num\n",
        "            if total_sum - k in sum_counts:\n",
        "                count += sum_counts[total_sum - k]\n",
        "            if total_sum in sum_counts:\n",
        "                sum_counts[total_sum] += 1\n",
        "            else:\n",
        "                sum_counts[total_sum] = 1\n",
        "\n",
        "        return count"
      ],
      "metadata": {
        "id": "oASHl_ghB_Qk"
      },
      "execution_count": null,
      "outputs": []
    },
    {
      "cell_type": "markdown",
      "source": [
        "Given the root of a binary tree, return the vertical order traversal of its nodes' values. (i.e., from top to bottom, column by column).\n",
        "\n",
        "If two nodes are in the same row and column, the order should be from left to right."
      ],
      "metadata": {
        "id": "qWJV8WPfDgL4"
      }
    },
    {
      "cell_type": "code",
      "execution_count": null,
      "metadata": {
        "id": "TCquvBqgB4so"
      },
      "outputs": [],
      "source": [
        "# Definition for a binary tree node.\n",
        "# class TreeNode:\n",
        "#     def __init__(self, val=0, left=None, right=None):\n",
        "#         self.val = val\n",
        "#         self.left = left\n",
        "#         self.right = right\n",
        "class Solution:\n",
        "    def verticalOrder(self, root: Optional[TreeNode]) -> List[List[int]]:\n",
        "        if not root:\n",
        "            return []\n",
        "\n",
        "        # Create a dictionary to store the column-wise nodes\n",
        "        column_nodes = defaultdict(list)\n",
        "\n",
        "        # Create a queue for BFS traversal\n",
        "        queue = deque([(root, 0)])  # (node, column)\n",
        "\n",
        "        # Perform BFS traversal\n",
        "        while queue:\n",
        "            node, column = queue.popleft()\n",
        "\n",
        "            # Add the node's value to the corresponding column\n",
        "            column_nodes[column].append(node.val)\n",
        "\n",
        "            # Enqueue the left child with the updated column value\n",
        "            if node.left:\n",
        "                queue.append((node.left, column - 1))\n",
        "\n",
        "            # Enqueue the right child with the updated column value\n",
        "            if node.right:\n",
        "                queue.append((node.right, column + 1))\n",
        "\n",
        "        # Sort the columns in ascending order\n",
        "        sorted_columns = sorted(column_nodes.keys())\n",
        "\n",
        "        # Collect the values column by column\n",
        "        vertical_order = [column_nodes[column] for column in sorted_columns]\n",
        "\n",
        "        return vertical_order"
      ]
    }
  ]
}